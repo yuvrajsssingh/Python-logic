{
 "cells": [
  {
   "cell_type": "code",
   "execution_count": null,
   "id": "4badc58c",
   "metadata": {},
   "outputs": [],
   "source": [
    "# numpy==> numpy is a open source librabry that is used for sccintific calculation"
   ]
  },
  {
   "cell_type": "code",
   "execution_count": null,
   "id": "6cbe4b0c",
   "metadata": {},
   "outputs": [],
   "source": [
    "# why we use numpy whenevefr we have list?\n",
    "# (1).homogeneus data type\n",
    "# (2).memory less consume\n",
    "# (3).less time consume"
   ]
  },
  {
   "cell_type": "code",
   "execution_count": null,
   "id": "5ff892d5",
   "metadata": {},
   "outputs": [],
   "source": [
    "# !pip install numpy"
   ]
  },
  {
   "cell_type": "code",
   "execution_count": 1,
   "id": "83deb869",
   "metadata": {},
   "outputs": [],
   "source": [
    "import numpy as np"
   ]
  },
  {
   "cell_type": "code",
   "execution_count": 3,
   "id": "1289eeec",
   "metadata": {},
   "outputs": [
    {
     "data": {
      "text/plain": [
       "list"
      ]
     },
     "execution_count": 3,
     "metadata": {},
     "output_type": "execute_result"
    }
   ],
   "source": [
    "a=[1,2,3,4]\n",
    "type(a)"
   ]
  },
  {
   "cell_type": "code",
   "execution_count": 4,
   "id": "5eeadf9e",
   "metadata": {},
   "outputs": [
    {
     "data": {
      "text/plain": [
       "array([1, 2, 3, 4])"
      ]
     },
     "execution_count": 4,
     "metadata": {},
     "output_type": "execute_result"
    }
   ],
   "source": [
    "b=np.array(a)\n",
    "b"
   ]
  },
  {
   "cell_type": "code",
   "execution_count": 5,
   "id": "a0028b11",
   "metadata": {},
   "outputs": [
    {
     "data": {
      "text/plain": [
       "numpy.ndarray"
      ]
     },
     "execution_count": 5,
     "metadata": {},
     "output_type": "execute_result"
    }
   ],
   "source": [
    "type(b)"
   ]
  },
  {
   "cell_type": "code",
   "execution_count": null,
   "id": "e0025fc8",
   "metadata": {},
   "outputs": [],
   "source": [
    "# dimension ==>\n",
    "# 1-d==>element exist in x- direction\n",
    "# 2-d==>element exist in x and y direction\n",
    "# 3-d==>element exist in x,y,z direction\n"
   ]
  },
  {
   "cell_type": "code",
   "execution_count": 7,
   "id": "4b89bb0b",
   "metadata": {},
   "outputs": [
    {
     "name": "stdout",
     "output_type": "stream",
     "text": [
      "total: (4,)\n"
     ]
    }
   ],
   "source": [
    "print(\"total shape:\",b.shape) ## shape=n(rows),n(columns)"
   ]
  },
  {
   "cell_type": "code",
   "execution_count": 8,
   "id": "3ab92e68",
   "metadata": {},
   "outputs": [
    {
     "name": "stdout",
     "output_type": "stream",
     "text": [
      "total elements: 4\n"
     ]
    }
   ],
   "source": [
    "print(\"total elements:\",b.size) ## shape=n(row)*n(column)"
   ]
  },
  {
   "cell_type": "code",
   "execution_count": 9,
   "id": "e117091d",
   "metadata": {},
   "outputs": [
    {
     "name": "stdout",
     "output_type": "stream",
     "text": [
      "total dimention: 1\n"
     ]
    }
   ],
   "source": [
    "print(\"total dimention:\",b.ndim)"
   ]
  },
  {
   "cell_type": "code",
   "execution_count": 10,
   "id": "98d993a0",
   "metadata": {},
   "outputs": [
    {
     "data": {
      "text/plain": [
       "[[1, 2, 3], [4, 5, 6], [7, 8, 9]]"
      ]
     },
     "execution_count": 10,
     "metadata": {},
     "output_type": "execute_result"
    }
   ],
   "source": [
    "a=[[1,2,3],[4,5,6],[7,8,9]]\n",
    "a"
   ]
  },
  {
   "cell_type": "code",
   "execution_count": 11,
   "id": "63387cef",
   "metadata": {},
   "outputs": [
    {
     "data": {
      "text/plain": [
       "array([[1, 2, 3],\n",
       "       [4, 5, 6],\n",
       "       [7, 8, 9]])"
      ]
     },
     "execution_count": 11,
     "metadata": {},
     "output_type": "execute_result"
    }
   ],
   "source": [
    "b=np.array(a)\n",
    "b"
   ]
  },
  {
   "cell_type": "code",
   "execution_count": 12,
   "id": "1f3af839",
   "metadata": {},
   "outputs": [
    {
     "data": {
      "text/plain": [
       "numpy.ndarray"
      ]
     },
     "execution_count": 12,
     "metadata": {},
     "output_type": "execute_result"
    }
   ],
   "source": [
    "type(b)"
   ]
  },
  {
   "cell_type": "code",
   "execution_count": 13,
   "id": "0d831b80",
   "metadata": {},
   "outputs": [
    {
     "name": "stdout",
     "output_type": "stream",
     "text": [
      "total rows and colums (3, 3)\n",
      "total elements 9\n",
      "total dimension 2\n"
     ]
    }
   ],
   "source": [
    "print(\"total rows and colums\",b.shape)\n",
    "print(\"total elements\",b.size)\n",
    "print(\"total dimension\",b.ndim)"
   ]
  },
  {
   "cell_type": "code",
   "execution_count": 16,
   "id": "367a8470",
   "metadata": {},
   "outputs": [
    {
     "name": "stdout",
     "output_type": "stream",
     "text": [
      "enter size:3\n",
      "enter number1\n",
      "enter number2\n",
      "enter number3\n"
     ]
    },
    {
     "data": {
      "text/plain": [
       "array([1, 2, 3])"
      ]
     },
     "execution_count": 16,
     "metadata": {},
     "output_type": "execute_result"
    }
   ],
   "source": [
    "# how can we create a user defined arary\n",
    "a=[]\n",
    "size=int(input(\"enter size:\"))\n",
    "for i in range(size):\n",
    "    val=int(input(\"enter number\"))\n",
    "    a.append(val)\n",
    "b=np.array(a)\n",
    "b\n",
    "    "
   ]
  },
  {
   "cell_type": "code",
   "execution_count": null,
   "id": "c5f68fea",
   "metadata": {},
   "outputs": [],
   "source": [
    "# numpy functions\n",
    "# images==>pixels(0-255)px==>0px(black),255px(white)==>normalize==>(0-1)px\n",
    "# (a).black&white==> hight,width\n",
    "# (b).colorfull image==>height,width,color_channel(red,green,blue)\n",
    "# matrix==>n(rows)=n(columns)==>sumatric matrix,n(r)!=n(c)==>asymatrix matrix\n",
    "# random number generation ==> random module\n",
    "# data science==>simple line equation =y=mx+b ##(x,y)=co-"
   ]
  },
  {
   "cell_type": "code",
   "execution_count": 18,
   "id": "3925adf7",
   "metadata": {},
   "outputs": [
    {
     "data": {
      "text/plain": [
       "array([0., 0., 0.])"
      ]
     },
     "execution_count": 18,
     "metadata": {},
     "output_type": "execute_result"
    }
   ],
   "source": [
    "# (1).zeros==>it will create an arary in which all the values are 0\n",
    "a=np.zeros(3)\n",
    "a"
   ]
  },
  {
   "cell_type": "code",
   "execution_count": 19,
   "id": "52f582b2",
   "metadata": {},
   "outputs": [
    {
     "data": {
      "text/plain": [
       "array([[0., 0., 0.],\n",
       "       [0., 0., 0.]])"
      ]
     },
     "execution_count": 19,
     "metadata": {},
     "output_type": "execute_result"
    }
   ],
   "source": [
    "a=np.zeros((2,3))\n",
    "a"
   ]
  },
  {
   "cell_type": "code",
   "execution_count": 21,
   "id": "0cbb1b4f",
   "metadata": {},
   "outputs": [
    {
     "data": {
      "text/plain": [
       "array([1., 1., 1.])"
      ]
     },
     "execution_count": 21,
     "metadata": {},
     "output_type": "execute_result"
    }
   ],
   "source": [
    "# (2).ones()==> it will create an array in which all the values are 1\n",
    "a=np.ones(3)\n",
    "a"
   ]
  },
  {
   "cell_type": "code",
   "execution_count": 22,
   "id": "2d035929",
   "metadata": {},
   "outputs": [
    {
     "data": {
      "text/plain": [
       "array([[1., 1., 1., 1.],\n",
       "       [1., 1., 1., 1.],\n",
       "       [1., 1., 1., 1.]])"
      ]
     },
     "execution_count": 22,
     "metadata": {},
     "output_type": "execute_result"
    }
   ],
   "source": [
    "a=np.ones((3,4))\n",
    "a"
   ]
  },
  {
   "cell_type": "code",
   "execution_count": 23,
   "id": "2b54f8f1",
   "metadata": {},
   "outputs": [
    {
     "data": {
      "text/plain": [
       "(3, 4)"
      ]
     },
     "execution_count": 23,
     "metadata": {},
     "output_type": "execute_result"
    }
   ],
   "source": [
    "a.shape"
   ]
  },
  {
   "cell_type": "code",
   "execution_count": 25,
   "id": "5e08b393",
   "metadata": {},
   "outputs": [
    {
     "data": {
      "text/plain": [
       "array([[1., 0., 0.],\n",
       "       [0., 1., 0.],\n",
       "       [0., 0., 1.]])"
      ]
     },
     "execution_count": 25,
     "metadata": {},
     "output_type": "execute_result"
    }
   ],
   "source": [
    "# (3).eye()==>it will create an array in which digonal positional element are 1 and reat all are 0\n",
    "a=np.eye(3)\n",
    "a"
   ]
  },
  {
   "cell_type": "code",
   "execution_count": 26,
   "id": "7eb73e60",
   "metadata": {},
   "outputs": [
    {
     "data": {
      "text/plain": [
       "array([[1., 0., 0., 0.],\n",
       "       [0., 1., 0., 0.],\n",
       "       [0., 0., 1., 0.]])"
      ]
     },
     "execution_count": 26,
     "metadata": {},
     "output_type": "execute_result"
    }
   ],
   "source": [
    "a=np.eye(3,4)## asymatric matrix\n",
    "a"
   ]
  },
  {
   "cell_type": "code",
   "execution_count": 27,
   "id": "fb55ae46",
   "metadata": {},
   "outputs": [
    {
     "data": {
      "text/plain": [
       "array([[1, 0, 0, 0],\n",
       "       [0, 2, 0, 0],\n",
       "       [0, 0, 3, 0],\n",
       "       [0, 0, 0, 4]])"
      ]
     },
     "execution_count": 27,
     "metadata": {},
     "output_type": "execute_result"
    }
   ],
   "source": [
    "# (4).diag()==>it will create an array in which we can customize our diagonal positional elements\n",
    "a=np.diag([1,2,3,4])\n",
    "a"
   ]
  },
  {
   "cell_type": "code",
   "execution_count": null,
   "id": "44ad20f4",
   "metadata": {},
   "outputs": [],
   "source": [
    "# (5).randome module ==>\n",
    "# (a).otp generation\n",
    "# (b).dataset==> 1 dummy column add\n",
    "# (c).randomly weight initialize\n"
   ]
  },
  {
   "cell_type": "code",
   "execution_count": null,
   "id": "f0c8cd19",
   "metadata": {},
   "outputs": [],
   "source": [
    "# (a).randint(min_number,max_number,total_number)\n"
   ]
  },
  {
   "cell_type": "code",
   "execution_count": 28,
   "id": "4e039499",
   "metadata": {},
   "outputs": [
    {
     "data": {
      "text/plain": [
       "array([6, 6, 6])"
      ]
     },
     "execution_count": 28,
     "metadata": {},
     "output_type": "execute_result"
    }
   ],
   "source": [
    "a=np.random.randint(1,10,3)\n",
    "a"
   ]
  },
  {
   "cell_type": "code",
   "execution_count": 9,
   "id": "5a823280",
   "metadata": {},
   "outputs": [
    {
     "data": {
      "text/plain": [
       "array([0.63011617, 0.83119826, 0.72602202, 0.78660241, 0.75892606,\n",
       "       0.0926386 , 0.09234297, 0.05110654, 0.82567679, 0.76223996])"
      ]
     },
     "execution_count": 9,
     "metadata": {},
     "output_type": "execute_result"
    }
   ],
   "source": [
    "a=np.random.rand(10)\n",
    "a"
   ]
  },
  {
   "cell_type": "code",
   "execution_count": 30,
   "id": "48f3e48b",
   "metadata": {},
   "outputs": [
    {
     "data": {
      "text/plain": [
       "array([-0.57986348, -0.65713876, -1.91893955, -0.13987788, -1.21928273])"
      ]
     },
     "execution_count": 30,
     "metadata": {},
     "output_type": "execute_result"
    }
   ],
   "source": [
    "# (c).randn()==>-3 to +3\n",
    "a=np.random.randn(5)\n",
    "a"
   ]
  },
  {
   "cell_type": "code",
   "execution_count": 35,
   "id": "82d97880",
   "metadata": {},
   "outputs": [
    {
     "data": {
      "text/plain": [
       "array([6, 9, 6])"
      ]
     },
     "execution_count": 35,
     "metadata": {},
     "output_type": "execute_result"
    }
   ],
   "source": [
    "# (d).seed()==it will fix our data once the data has been generate\n",
    "np.random.seed(1)\n",
    "a=np.random.randint(1,10,3)\n",
    "a"
   ]
  },
  {
   "cell_type": "code",
   "execution_count": 3,
   "id": "60462ae4",
   "metadata": {},
   "outputs": [
    {
     "data": {
      "text/plain": [
       "array([10, 20,  0,  0,  0, 60, 70, 80])"
      ]
     },
     "execution_count": 3,
     "metadata": {},
     "output_type": "execute_result"
    }
   ],
   "source": [
    "# view vs copy\n",
    "a=np.array([10,20,30,40,50,60,70,80]) ## view means modification in orirginal data.\n",
    "b=a[2:5]\n",
    "b[:]=0\n",
    "a"
   ]
  },
  {
   "cell_type": "code",
   "execution_count": 4,
   "id": "eaf95075",
   "metadata": {},
   "outputs": [
    {
     "data": {
      "text/plain": [
       "array([10, 20, 30, 40, 50, 60, 70, 80])"
      ]
     },
     "execution_count": 4,
     "metadata": {},
     "output_type": "execute_result"
    }
   ],
   "source": [
    "a=np.array([10,20,30,40,50,60,70,80]) ##copy() means modification in duplicate file .\n",
    "b=a[2:5].copy()\n",
    "b[:]=0\n",
    "a"
   ]
  },
  {
   "cell_type": "code",
   "execution_count": null,
   "id": "f7789707",
   "metadata": {},
   "outputs": [],
   "source": [
    "# reshaping and data\n",
    "# we know that \n",
    "# n(nows)*n(colums)=n(total_elements)\n",
    "# if we have total_elements=12\n",
    "# 1*2,12*1\n",
    "# 2*6,6*2\n",
    "# 3**4,4*3\n",
    "\n",
    "# if we have total_elements =36\n",
    "# 1*36,36*1\n",
    "# 2*18,18*2\n",
    "# 3*12,12*3\n",
    "# 4*9,9*4\n",
    "# 6*6\n"
   ]
  },
  {
   "cell_type": "code",
   "execution_count": 5,
   "id": "86ff477d",
   "metadata": {},
   "outputs": [
    {
     "data": {
      "text/plain": [
       "array([11, 38, 30, 26, 10, 10,  2, 33, 35, 13, 19, 45])"
      ]
     },
     "execution_count": 5,
     "metadata": {},
     "output_type": "execute_result"
    }
   ],
   "source": [
    "a=np.random.randint(1,50,12)\n",
    "a"
   ]
  },
  {
   "cell_type": "code",
   "execution_count": 6,
   "id": "42666d5f",
   "metadata": {},
   "outputs": [
    {
     "data": {
      "text/plain": [
       "(12,)"
      ]
     },
     "execution_count": 6,
     "metadata": {},
     "output_type": "execute_result"
    }
   ],
   "source": [
    "a.shape"
   ]
  },
  {
   "cell_type": "code",
   "execution_count": 9,
   "id": "2f3d8410",
   "metadata": {},
   "outputs": [
    {
     "data": {
      "text/plain": [
       "array([[11, 38, 30, 26],\n",
       "       [10, 10,  2, 33],\n",
       "       [35, 13, 19, 45]])"
      ]
     },
     "execution_count": 9,
     "metadata": {},
     "output_type": "execute_result"
    }
   ],
   "source": [
    "a.reshape(3,4)"
   ]
  },
  {
   "cell_type": "code",
   "execution_count": 10,
   "id": "7cb7ef95",
   "metadata": {},
   "outputs": [
    {
     "data": {
      "text/plain": [
       "array([78, 21, 82, 42, 19, 21, 70, 38, 90,  2, 46, 29, 99, 49, 81, 47,  3,\n",
       "       73, 44, 92, 98, 92, 67, 78, 20, 28, 74, 28, 66, 42, 16,  4,  6, 47,\n",
       "       11, 29, 43, 40, 17, 52, 18, 91, 99, 24, 63, 31, 16, 83,  7,  3, 56,\n",
       "       38, 35,  6, 66, 10, 72, 97, 10, 14, 59, 96, 75,  7, 93, 80, 95, 27,\n",
       "       40, 18, 48, 82])"
      ]
     },
     "execution_count": 10,
     "metadata": {},
     "output_type": "execute_result"
    }
   ],
   "source": [
    "a=np.random.randint(1,100,72)\n",
    "a"
   ]
  },
  {
   "cell_type": "code",
   "execution_count": 11,
   "id": "ea6d8ea6",
   "metadata": {},
   "outputs": [
    {
     "data": {
      "text/plain": [
       "array([[78, 21, 82, 42, 19, 21, 70, 38, 90],\n",
       "       [ 2, 46, 29, 99, 49, 81, 47,  3, 73],\n",
       "       [44, 92, 98, 92, 67, 78, 20, 28, 74],\n",
       "       [28, 66, 42, 16,  4,  6, 47, 11, 29],\n",
       "       [43, 40, 17, 52, 18, 91, 99, 24, 63],\n",
       "       [31, 16, 83,  7,  3, 56, 38, 35,  6],\n",
       "       [66, 10, 72, 97, 10, 14, 59, 96, 75],\n",
       "       [ 7, 93, 80, 95, 27, 40, 18, 48, 82]])"
      ]
     },
     "execution_count": 11,
     "metadata": {},
     "output_type": "execute_result"
    }
   ],
   "source": [
    "a.reshape(8,9)"
   ]
  },
  {
   "cell_type": "code",
   "execution_count": 12,
   "id": "be4e2704",
   "metadata": {},
   "outputs": [
    {
     "data": {
      "text/plain": [
       "array([[78, 21, 82, 42, 19, 21],\n",
       "       [70, 38, 90,  2, 46, 29],\n",
       "       [99, 49, 81, 47,  3, 73],\n",
       "       [44, 92, 98, 92, 67, 78],\n",
       "       [20, 28, 74, 28, 66, 42],\n",
       "       [16,  4,  6, 47, 11, 29],\n",
       "       [43, 40, 17, 52, 18, 91],\n",
       "       [99, 24, 63, 31, 16, 83],\n",
       "       [ 7,  3, 56, 38, 35,  6],\n",
       "       [66, 10, 72, 97, 10, 14],\n",
       "       [59, 96, 75,  7, 93, 80],\n",
       "       [95, 27, 40, 18, 48, 82]])"
      ]
     },
     "execution_count": 12,
     "metadata": {},
     "output_type": "execute_result"
    }
   ],
   "source": [
    "a.reshape(12,6)"
   ]
  },
  {
   "cell_type": "code",
   "execution_count": 13,
   "id": "e0ea6337",
   "metadata": {},
   "outputs": [
    {
     "data": {
      "text/plain": [
       "array([ 1,  2,  3,  4,  5,  6,  7,  8,  9, 10, 11, 12, 13, 14, 15])"
      ]
     },
     "execution_count": 13,
     "metadata": {},
     "output_type": "execute_result"
    }
   ],
   "source": [
    "# conditional selection in numpy\n",
    "a=np.arange(1,16)\n",
    "a"
   ]
  },
  {
   "cell_type": "code",
   "execution_count": 14,
   "id": "de76b616",
   "metadata": {},
   "outputs": [
    {
     "data": {
      "text/plain": [
       "array([False, False, False, False, False, False, False, False, False,\n",
       "       False, False, False, False, False, False])"
      ]
     },
     "execution_count": 14,
     "metadata": {},
     "output_type": "execute_result"
    }
   ],
   "source": [
    "a>16"
   ]
  },
  {
   "cell_type": "code",
   "execution_count": 15,
   "id": "7e4663c9",
   "metadata": {},
   "outputs": [
    {
     "data": {
      "text/plain": [
       "array([ True,  True,  True,  True,  True,  True,  True,  True,  True,\n",
       "       False, False, False, False, False, False])"
      ]
     },
     "execution_count": 15,
     "metadata": {},
     "output_type": "execute_result"
    }
   ],
   "source": [
    "a<10"
   ]
  },
  {
   "cell_type": "code",
   "execution_count": 17,
   "id": "e3c2182c",
   "metadata": {},
   "outputs": [
    {
     "data": {
      "text/plain": [
       "array([11, 12, 13, 14, 15])"
      ]
     },
     "execution_count": 17,
     "metadata": {},
     "output_type": "execute_result"
    }
   ],
   "source": [
    "b=a>10\n",
    "a[b]"
   ]
  },
  {
   "cell_type": "code",
   "execution_count": 18,
   "id": "1788174f",
   "metadata": {},
   "outputs": [
    {
     "data": {
      "text/plain": [
       "array([ 1,  2,  3,  4,  5,  6,  7,  8,  9, 10])"
      ]
     },
     "execution_count": 18,
     "metadata": {},
     "output_type": "execute_result"
    }
   ],
   "source": [
    "c=a<=10\n",
    "a[c]"
   ]
  },
  {
   "cell_type": "code",
   "execution_count": 22,
   "id": "ce40a29e",
   "metadata": {},
   "outputs": [
    {
     "data": {
      "text/plain": [
       "array([ 1,  3,  5,  7,  9, 11, 13, 15])"
      ]
     },
     "execution_count": 22,
     "metadata": {},
     "output_type": "execute_result"
    }
   ],
   "source": [
    "a[a%2!=0]"
   ]
  },
  {
   "cell_type": "code",
   "execution_count": 23,
   "id": "2da3613c",
   "metadata": {},
   "outputs": [
    {
     "data": {
      "text/plain": [
       "array([ 2,  4,  6,  8, 10, 12, 14])"
      ]
     },
     "execution_count": 23,
     "metadata": {},
     "output_type": "execute_result"
    }
   ],
   "source": [
    "a[a%2==0]"
   ]
  },
  {
   "cell_type": "code",
   "execution_count": 25,
   "id": "f0d732d8",
   "metadata": {},
   "outputs": [
    {
     "data": {
      "text/plain": [
       "array([[1, 2],\n",
       "       [3, 4]])"
      ]
     },
     "execution_count": 25,
     "metadata": {},
     "output_type": "execute_result"
    }
   ],
   "source": [
    "a=np.arange(1,5).reshape(2,2)\n",
    "a"
   ]
  },
  {
   "cell_type": "code",
   "execution_count": 28,
   "id": "83dd8c13",
   "metadata": {},
   "outputs": [
    {
     "data": {
      "text/plain": [
       "array([[5, 6],\n",
       "       [7, 8]])"
      ]
     },
     "execution_count": 28,
     "metadata": {},
     "output_type": "execute_result"
    }
   ],
   "source": [
    "b=np.arange(5,9).reshape(2,2)\n",
    "b"
   ]
  },
  {
   "cell_type": "code",
   "execution_count": 29,
   "id": "98ad5c31",
   "metadata": {},
   "outputs": [
    {
     "data": {
      "text/plain": [
       "array([[10, 12],\n",
       "       [14, 16]])"
      ]
     },
     "execution_count": 29,
     "metadata": {},
     "output_type": "execute_result"
    }
   ],
   "source": [
    "a+b"
   ]
  },
  {
   "cell_type": "code",
   "execution_count": 30,
   "id": "ecd9965e",
   "metadata": {},
   "outputs": [
    {
     "data": {
      "text/plain": [
       "array([[0, 0],\n",
       "       [0, 0]])"
      ]
     },
     "execution_count": 30,
     "metadata": {},
     "output_type": "execute_result"
    }
   ],
   "source": [
    "a-b"
   ]
  },
  {
   "cell_type": "code",
   "execution_count": 31,
   "id": "c2d8a961",
   "metadata": {},
   "outputs": [
    {
     "data": {
      "text/plain": [
       "array([[ 67,  78],\n",
       "       [ 91, 106]])"
      ]
     },
     "execution_count": 31,
     "metadata": {},
     "output_type": "execute_result"
    }
   ],
   "source": [
    "a.dot(b)"
   ]
  },
  {
   "cell_type": "code",
   "execution_count": 32,
   "id": "650a09b3",
   "metadata": {},
   "outputs": [
    {
     "data": {
      "text/plain": [
       "array([[1, 2, 3],\n",
       "       [4, 5, 6],\n",
       "       [7, 8, 9]])"
      ]
     },
     "execution_count": 32,
     "metadata": {},
     "output_type": "execute_result"
    }
   ],
   "source": [
    "a=np.arange(1,10).reshape(3,3)\n",
    "a"
   ]
  },
  {
   "cell_type": "code",
   "execution_count": 33,
   "id": "f65ff9dc",
   "metadata": {},
   "outputs": [
    {
     "data": {
      "text/plain": [
       "45"
      ]
     },
     "execution_count": 33,
     "metadata": {},
     "output_type": "execute_result"
    }
   ],
   "source": [
    "np.sum(a)"
   ]
  },
  {
   "cell_type": "code",
   "execution_count": 34,
   "id": "30dc244f",
   "metadata": {},
   "outputs": [
    {
     "data": {
      "text/plain": [
       "array([ 6, 15, 24])"
      ]
     },
     "execution_count": 34,
     "metadata": {},
     "output_type": "execute_result"
    }
   ],
   "source": [
    "np.sum(a,axis=1) ## row wise total"
   ]
  },
  {
   "cell_type": "code",
   "execution_count": 35,
   "id": "c7a85cc5",
   "metadata": {},
   "outputs": [
    {
     "data": {
      "text/plain": [
       "array([12, 15, 18])"
      ]
     },
     "execution_count": 35,
     "metadata": {},
     "output_type": "execute_result"
    }
   ],
   "source": [
    "np.sum(a,axis=0) ## column wise total"
   ]
  },
  {
   "cell_type": "code",
   "execution_count": 36,
   "id": "b7f783e4",
   "metadata": {},
   "outputs": [
    {
     "data": {
      "text/plain": [
       "array([1, 2, 2, 2, 3, 4, 3, 3, 3, 5, 6])"
      ]
     },
     "execution_count": 36,
     "metadata": {},
     "output_type": "execute_result"
    }
   ],
   "source": [
    "# unique()==> it will return unique values or eliminate dublicate values\n",
    "# it will return 3 array\n",
    "# (1).unique value of array\n",
    "# (2).indexing of original value\n",
    "# (3).returns requancy of each unique values\n",
    "a=np.array([1,2,2,2,3,4,3,3,3,5,6])\n",
    "a"
   ]
  },
  {
   "cell_type": "code",
   "execution_count": 37,
   "id": "197ba34a",
   "metadata": {},
   "outputs": [
    {
     "data": {
      "text/plain": [
       "(array([1, 2, 3, 4, 5, 6]),\n",
       " array([ 0,  1,  4,  5,  9, 10], dtype=int64),\n",
       " array([1, 3, 4, 1, 1, 1], dtype=int64))"
      ]
     },
     "execution_count": 37,
     "metadata": {},
     "output_type": "execute_result"
    }
   ],
   "source": [
    "np.unique(a,return_index=True,return_counts=True)"
   ]
  },
  {
   "cell_type": "code",
   "execution_count": 39,
   "id": "d0d90581",
   "metadata": {},
   "outputs": [
    {
     "data": {
      "text/plain": [
       "array([1.  , 1.25, 1.5 , 1.75, 2.  ])"
      ]
     },
     "execution_count": 39,
     "metadata": {},
     "output_type": "execute_result"
    }
   ],
   "source": [
    "# linespace()==> it will create an arary in which diffrence of each value will be equal\n",
    "a=np.linspace(1,2,5)\n",
    "a\n"
   ]
  },
  {
   "cell_type": "code",
   "execution_count": 41,
   "id": "f4eefeaf",
   "metadata": {},
   "outputs": [],
   "source": [
    "# stacking in numpy \n",
    "# (1).hstack()=it will combined multiple array into horizontally\n",
    "a=np.arange(1,15)\n",
    "b=np.arange(5,9)\n",
    "c=np.arange(9,13)"
   ]
  },
  {
   "cell_type": "code",
   "execution_count": 42,
   "id": "61e30bfc",
   "metadata": {},
   "outputs": [
    {
     "data": {
      "text/plain": [
       "array([ 1,  2,  3,  4,  5,  6,  7,  8,  9, 10, 11, 12, 13, 14,  5,  6,  7,\n",
       "        8,  9, 10, 11, 12])"
      ]
     },
     "execution_count": 42,
     "metadata": {},
     "output_type": "execute_result"
    }
   ],
   "source": [
    "np.hstack((a,b,c))"
   ]
  },
  {
   "cell_type": "code",
   "execution_count": 50,
   "id": "4c5bdd2d",
   "metadata": {},
   "outputs": [],
   "source": [
    "# (2).vstack()==>it will  combined multiple arrays into vertically\n",
    "a = np.arange(1,5)\n",
    "b = np.arange(5,9)\n",
    "c = np.arange(9,13)"
   ]
  },
  {
   "cell_type": "code",
   "execution_count": 52,
   "id": "fd9f0597",
   "metadata": {},
   "outputs": [
    {
     "data": {
      "text/plain": [
       "array([[ 1,  2,  3,  4],\n",
       "       [ 5,  6,  7,  8],\n",
       "       [ 9, 10, 11, 12]])"
      ]
     },
     "execution_count": 52,
     "metadata": {},
     "output_type": "execute_result"
    }
   ],
   "source": [
    "np.vstack((a,b,c))"
   ]
  }
 ],
 "metadata": {
  "kernelspec": {
   "display_name": "Python 3 (ipykernel)",
   "language": "python",
   "name": "python3"
  },
  "language_info": {
   "codemirror_mode": {
    "name": "ipython",
    "version": 3
   },
   "file_extension": ".py",
   "mimetype": "text/x-python",
   "name": "python",
   "nbconvert_exporter": "python",
   "pygments_lexer": "ipython3",
   "version": "3.11.5"
  }
 },
 "nbformat": 4,
 "nbformat_minor": 5
}
